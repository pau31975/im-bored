{
 "cells": [
  {
   "cell_type": "code",
   "execution_count": 92,
   "metadata": {},
   "outputs": [],
   "source": [
    "import random\n",
    "\n",
    "def trade_simulate(trade_start, num_trade, percent_win, percent_save_win, exit, stop_loss):\n",
    "\n",
    "    # Set the percentage of True and False\n",
    "    percent_win = percent_win\n",
    "    percent_lose = 1 - percent_win\n",
    "\n",
    "    # Generate the list\n",
    "    win_lose_list = random.choices([True, False], weights=[percent_win, percent_lose], k=num_trade)\n",
    "    # print(win_lose_list)\n",
    "\n",
    "    trade_list = [(trade_start, 0)]\n",
    "\n",
    "    for i in win_lose_list:\n",
    "\n",
    "        diff = 0\n",
    "        \n",
    "        if i == True:\n",
    "            diff = trade_list[-1][0] * random.uniform(0, exit)\n",
    "            trade_list.append((trade_list[-1][0] + diff * (1 - percent_save_win), trade_list[-1][1] + diff * percent_save_win))\n",
    "        else:\n",
    "            diff = trade_list[-1][0] * random.uniform(-stop_loss, 0)\n",
    "            trade_list.append((trade_list[-1][0] + diff, trade_list[-1][1]))\n",
    "        \n",
    "    # print(win_lose_list)\n",
    "    return round(trade_list[-1][0] + trade_list[-1][1], 2)"
   ]
  },
  {
   "cell_type": "code",
   "execution_count": 366,
   "metadata": {},
   "outputs": [],
   "source": [
    "# config strategy\n",
    "trade_start = 18093\n",
    "num_trade = 60\n",
    "percent_win = 0.6\n",
    "percent_save_win = 0\n",
    "exit = 0.03\n",
    "stop_loss = 0.02\n",
    "\n",
    "# trade_simulate(trade_start, num_trade, percent_win, percent_save_win, exit, stop_loss)"
   ]
  },
  {
   "cell_type": "code",
   "execution_count": 370,
   "metadata": {},
   "outputs": [
    {
     "data": {
      "image/png": "[encoded data removed]",
      "text/plain": [
       "<Figure size 432x288 with 1 Axes>"
      ]
     },
     "metadata": {
      "needs_background": "light"
     },
     "output_type": "display_data"
    }
   ],
   "source": [
    "import matplotlib.pyplot as plt\n",
    "\n",
    "# Set the number of times to run the operation\n",
    "num_runs = 10000\n",
    "\n",
    "# Run the operation many times and store the results\n",
    "results = []\n",
    "for _ in range(num_runs):\n",
    "    result = trade_simulate(trade_start, num_trade, percent_win, percent_save_win, exit, stop_loss)\n",
    "    results.append(result)\n",
    "\n",
    "# Create a box plot of the results\n",
    "plt.boxplot(results)\n",
    "plt.axhline(y=trade_start, color='r', linestyle='--', label=f'trade_start: {trade_start}')\n",
    "plt.title('Results of my_operation with random input')\n",
    "plt.xlabel('Result')\n",
    "plt.ylabel('Frequency')\n",
    "plt.legend()\n",
    "plt.show()"
   ]
  },
  {
   "cell_type": "code",
   "execution_count": null,
   "metadata": {},
   "outputs": [],
   "source": []
  }
 ],
 "metadata": {
  "kernelspec": {
   "display_name": "base",
   "language": "python",
   "name": "python3"
  },
  "language_info": {
   "codemirror_mode": {
    "name": "ipython",
    "version": 3
   },
   "file_extension": ".py",
   "mimetype": "text/x-python",
   "name": "python",
   "nbconvert_exporter": "python",
   "pygments_lexer": "ipython3",
   "version": "3.9.7"
  }
 },
 "nbformat": 4,
 "nbformat_minor": 2
}
